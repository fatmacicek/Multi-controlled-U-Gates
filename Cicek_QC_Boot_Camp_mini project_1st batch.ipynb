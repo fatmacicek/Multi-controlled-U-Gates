{
 "cells": [
  {
   "cell_type": "markdown",
   "metadata": {},
   "source": [
    "# Mini Project #2: MULTI-CONTROLLED $U$ GATE"
   ]
  },
  {
   "cell_type": "markdown",
   "metadata": {},
   "source": [
    "Write a Qiskit function that takes two inputs: a positive integer $n$ and a matrix $U \\in U(2)$ and outputs a quantum circuit on $n + 1$ qubits, possibly with further ancillas, that implements a multi-controlled $U$ gate, $C^nU$, that is\n",
    "$$\n",
    "C^n U \\ket{x}_n \\ket{y}_1 = \n",
    "\\begin{cases}\n",
    "\\ket{x}_n U \\ket{y}_1 \\quad &\\text{if } \\, x = (1, 1, \\dots, 1), \\\\\n",
    "\\ket{x}_n \\ket{y}_1 \\quad &\\text{otherwise.}\n",
    "\\end{cases}\n",
    "$$\n",
    "The construction may only use arbitrary $1$-qubit gates ([$U$ gate](https://docs.quantum.ibm.com/api/qiskit/qiskit.circuit.library.UGate)) and $CX$ gates. No classical bit and measurements allowed. \n",
    "\n",
    "Expectations:\n",
    "\n",
    "• Documentation.\n",
    "\n",
    "• Explanation of the construction (can use properly cited references).\n",
    "\n",
    "• Working Qiskit code with benchmarking for low values of n.\n",
    "\n",
    "• Analysis of the various complexities and resources used (at least for gate count, gate depth, and number of ancillas), in the “big-O” sense, as $n \\to \\infty$. "
   ]
  },
  {
   "cell_type": "markdown",
   "metadata": {},
   "source": [
    "# Solution:\n"
   ]
  },
  {
   "cell_type": "markdown",
   "metadata": {},
   "source": [
    "# Case n=1:"
   ]
  },
  {
   "cell_type": "markdown",
   "metadata": {},
   "source": [
    "We list some observations.\n",
    "\n",
    "It is known that $Z = HXH$ and the CZ gate can be obtained from CNOT gate: $$CZ = (I \\otimes H) CNOT (I\\otimes H).$$"
   ]
  },
  {
   "cell_type": "markdown",
   "metadata": {},
   "source": [
    "This can be seen from $$ CNOT = \\ket{0} \\bra{0} \\otimes I + \\ket{1} \\bra{1} \\otimes X ,$$ and multiplying this equation with $I\\otimes H$ from both sides. "
   ]
  },
  {
   "cell_type": "markdown",
   "metadata": {},
   "source": [
    "The expression for $CZ$ is essentially a result of $Z= HXH$ and $H^2 = I$. "
   ]
  },
  {
   "cell_type": "markdown",
   "metadata": {},
   "source": [
    "Also known is the fact that $$CY = (I \\otimes S) CNOT (I\\otimes S^\\dagger),$$ where $S$ is a phase gate with phase $\\pi/2$ and $S^\\dagger$ is its inverse. Similarly, this is a result of the identities $Y = S X S^\\dagger$ and $S^\\dagger S = I =S S^\\dagger$.  "
   ]
  },
  {
   "cell_type": "markdown",
   "metadata": {},
   "source": [
    "The controlled $U$ gate, in general, can be written as $$CU = \\ket{0} \\bra{0} \\otimes I + \\ket{1} \\bra{1}\\otimes U .$$ "
   ]
  },
  {
   "cell_type": "markdown",
   "metadata": {},
   "source": [
    "If $U$ is a $1$-qubit gate, then the controlled version of $U$, called $CU$, is the following 2-qubit gate:\n",
    "\n",
    "$CU \\ket{x}\\ket{y} = \\left\\{ \\begin{array}{ll} \\ket{x} \\ket{y}, \n",
    "& \\textnormal{if } x = 0, \\\\ \\ket{x} U \\ket{y}, & \\textnormal{if } x = 1. \\end{array} \\right.$"
   ]
  },
  {
   "cell_type": "markdown",
   "metadata": {},
   "source": [
    "We know one decomposition of any unitary $U\\in U(2)$ to have the form (up to a phase factor of $e^{-i\\tfrac{\\varphi+\\lambda}{2}}$)\n",
    "$$U(\\theta, \\varphi, \\lambda) = \\begin{bmatrix} \\cos \\left( \\tfrac{\\theta}{2} \\right) & - e^{i \\lambda} \\sin \\left( \\tfrac{\\theta}{2} \\right) \n",
    "\\\\ e^{i \\varphi} \\sin \\left( \\tfrac{\\theta}{2} \\right) & e^{i (\\varphi + \\lambda)} \\cos \\left( \\tfrac{\\theta}{2} \\right) \\end{bmatrix}\n",
    "= e^{i \\frac{\\lambda + \\varphi}{2}} R_Z \\left( \\varphi + \\tfrac{\\pi}{2} \\right) H R_Z (\\theta) H R_Z \\left( \\lambda - \\tfrac{\\pi}{2} \\right).$$\n",
    "(see the problem session 1.)\n",
    "\n",
    "This expression involves the Hadamard gates instead of the Pauli $X$-gate. But we know that $H= X R_Y \\left(\\tfrac{\\pi}{2}\\right)$ (see [this page](https://quantumcomputing.stackexchange.com/questions/21656/why-isnt-ry-pi-2-gate-equivalent-to-hadamard-gate)). We thus have \n",
    "$$U \n",
    "= e^{i \\frac{\\lambda + \\varphi}{2}} R_Z \\left( \\varphi + \\tfrac{\\pi}{2} \\right) X R_Y \\left(\\tfrac{\\pi}{2}\\right) R_Z (\\theta) X R_Y \\left(\\tfrac{\\pi}{2}\\right) R_Z \\left( \\lambda - \\tfrac{\\pi}{2} \\right).$$ \n",
    "However, we need a different decomposition of $U$ into separate rotation gates along $y, z$-axes. For this, we apply Nielsen and Chuang's Theorem 4.1 and Corollary 4.2. "
   ]
  },
  {
   "cell_type": "markdown",
   "metadata": {},
   "source": [
    "**Corollary 4.2 (Nielsen and Chuang):** Given $U\\in U(2)$ as in the above, $$ U = e^{i\\tfrac{-\\varphi-\\lambda}{2}}AXBXC \\quad \\text{with} \\quad ABC = I,$$ where $$A= R_Z \\left( \\varphi \\right) R_Y \\left(\\tfrac{\\theta}{2}\\right) , \\quad  B=  R_Y \\left(-\\tfrac{\\theta}{2}\\right) R_Z \\left(\\tfrac{-\\varphi-\\lambda}{2}\\right)  , \n",
    "\\quad C =  R_Z \\left(\\tfrac{ \\lambda -\\varphi}{2} \\right) .$$ \n",
    "\n",
    "Note: Not sure if this decomposition is unique. "
   ]
  },
  {
   "cell_type": "markdown",
   "metadata": {},
   "source": [
    "We can implement $C U$ as follows. "
   ]
  },
  {
   "cell_type": "code",
   "execution_count": 67,
   "metadata": {},
   "outputs": [
    {
     "name": "stdout",
     "output_type": "stream",
     "text": [
      "Requirement already satisfied: qiskit in /Library/Frameworks/Python.framework/Versions/3.12/lib/python3.12/site-packages (2.0.0)\n",
      "Requirement already satisfied: numpy in /Library/Frameworks/Python.framework/Versions/3.12/lib/python3.12/site-packages (2.2.5)\n",
      "Requirement already satisfied: rustworkx>=0.15.0 in /Library/Frameworks/Python.framework/Versions/3.12/lib/python3.12/site-packages (from qiskit) (0.16.0)\n",
      "Requirement already satisfied: scipy>=1.5 in /Library/Frameworks/Python.framework/Versions/3.12/lib/python3.12/site-packages (from qiskit) (1.15.3)\n",
      "Requirement already satisfied: sympy>=1.3 in /Library/Frameworks/Python.framework/Versions/3.12/lib/python3.12/site-packages (from qiskit) (1.14.0)\n",
      "Requirement already satisfied: dill>=0.3 in /Library/Frameworks/Python.framework/Versions/3.12/lib/python3.12/site-packages (from qiskit) (0.4.0)\n",
      "Requirement already satisfied: python-dateutil>=2.8.0 in /Library/Frameworks/Python.framework/Versions/3.12/lib/python3.12/site-packages (from qiskit) (2.9.0.post0)\n",
      "Requirement already satisfied: stevedore>=3.0.0 in /Library/Frameworks/Python.framework/Versions/3.12/lib/python3.12/site-packages (from qiskit) (5.4.1)\n",
      "Requirement already satisfied: typing-extensions in /Library/Frameworks/Python.framework/Versions/3.12/lib/python3.12/site-packages (from qiskit) (4.13.2)\n",
      "Requirement already satisfied: symengine<0.14,>=0.11 in /Library/Frameworks/Python.framework/Versions/3.12/lib/python3.12/site-packages (from qiskit) (0.13.0)\n",
      "Requirement already satisfied: six>=1.5 in /Library/Frameworks/Python.framework/Versions/3.12/lib/python3.12/site-packages (from python-dateutil>=2.8.0->qiskit) (1.17.0)\n",
      "Requirement already satisfied: pbr>=2.0.0 in /Library/Frameworks/Python.framework/Versions/3.12/lib/python3.12/site-packages (from stevedore>=3.0.0->qiskit) (6.1.1)\n",
      "Requirement already satisfied: setuptools in /Library/Frameworks/Python.framework/Versions/3.12/lib/python3.12/site-packages (from pbr>=2.0.0->stevedore>=3.0.0->qiskit) (80.4.0)\n",
      "Requirement already satisfied: mpmath<1.4,>=1.1.0 in /Library/Frameworks/Python.framework/Versions/3.12/lib/python3.12/site-packages (from sympy>=1.3->qiskit) (1.3.0)\n",
      "Note: you may need to restart the kernel to use updated packages.\n"
     ]
    }
   ],
   "source": [
    "pip install qiskit numpy"
   ]
  },
  {
   "cell_type": "code",
   "execution_count": 68,
   "metadata": {},
   "outputs": [],
   "source": [
    "from qiskit import quantum_info \n",
    "from qiskit.circuit import QuantumCircuit, QuantumRegister, AncillaRegister, Parameter\n",
    "from qiskit.quantum_info import Statevector, Operator\n",
    "from qiskit import transpile\n",
    "\n",
    "import numpy as np"
   ]
  },
  {
   "cell_type": "code",
   "execution_count": 69,
   "metadata": {},
   "outputs": [],
   "source": [
    "# Define Parameters \n",
    "Theta, Phi, Lam = Parameter(r\"$\\theta$\"), Parameter(r\"$\\varphi$\"), Parameter(r\"$\\lambda$\")"
   ]
  },
  {
   "cell_type": "code",
   "execution_count": 70,
   "metadata": {},
   "outputs": [
    {
     "data": {
      "image/png": "[encoded data removed]",
      "text/plain": [
       "<Figure size 222.116x200.667 with 1 Axes>"
      ]
     },
     "execution_count": 70,
     "metadata": {},
     "output_type": "execute_result"
    }
   ],
   "source": [
    "# Define controlled U gate:\n",
    "from qiskit.circuit.library.standard_gates import UGate\n",
    "quantum_register = QuantumRegister(2)\n",
    "quantum_circuit = QuantumCircuit(quantum_register)\n",
    "cu_gate = UGate(Theta, Phi, Lam).control(1)\n",
    "quantum_circuit.append(cu_gate, quantum_register)\n",
    "quantum_circuit.draw('mpl')"
   ]
  },
  {
   "cell_type": "code",
   "execution_count": 71,
   "metadata": {},
   "outputs": [
    {
     "data": {
      "image/png": "[encoded data removed]",
      "text/plain": [
       "<Figure size 1225.45x200.667 with 1 Axes>"
      ]
     },
     "execution_count": 71,
     "metadata": {},
     "output_type": "execute_result"
    }
   ],
   "source": [
    "# We check the decomposition provided by Qiskit. \n",
    "decomposed_quantum_circuit = transpile(quantum_circuit, basis_gates = ['rx', 'ry', 'rz', 'cx'])\n",
    "decomposed_quantum_circuit.draw('mpl')"
   ]
  },
  {
   "cell_type": "markdown",
   "metadata": {},
   "source": [
    "We observe that this uses 11 phase gates and 2 control gates."
   ]
  },
  {
   "cell_type": "markdown",
   "metadata": {},
   "source": [
    "We try the above implementation provided by Corollary 4.2."
   ]
  },
  {
   "cell_type": "code",
   "execution_count": 72,
   "metadata": {},
   "outputs": [
    {
     "data": {
      "text/plain": [
       "<qiskit.circuit.instructionset.InstructionSet at 0x12dc57490>"
      ]
     },
     "execution_count": 72,
     "metadata": {},
     "output_type": "execute_result"
    }
   ],
   "source": [
    "# Create the register and the circuit:\n",
    "quantum_register = QuantumRegister(size=2, name=\"n=1 register\")\n",
    "quantum_circuit = QuantumCircuit(quantum_register)\n",
    "# apply C\n",
    "quantum_circuit.rz((Lam-Phi)/2,quantum_register[1])\n",
    "# apply control gate\n",
    "quantum_circuit.cx(quantum_register[0],quantum_register[1])\n",
    "# apply B\n",
    "quantum_circuit.rz((-Lam-Phi)/2,quantum_register[1])\n",
    "quantum_circuit.ry((-Theta)/2,quantum_register[1])\n",
    "# apply control gate\n",
    "quantum_circuit.cx(quantum_register[0],quantum_register[1])\n",
    "# apply A\n",
    "quantum_circuit.ry((Theta)/2,quantum_register[1])\n",
    "quantum_circuit.rz(Phi,quantum_register[1])\n",
    "# apply phase gate to qubit zero\n",
    "quantum_circuit.p((-Lam-Phi)/2, quantum_register[0])"
   ]
  },
  {
   "cell_type": "code",
   "execution_count": 73,
   "metadata": {},
   "outputs": [
    {
     "data": {
      "image/png": "[encoded data removed]",
      "text/plain": [
       "<Figure size 1036.43x200.667 with 1 Axes>"
      ]
     },
     "execution_count": 73,
     "metadata": {},
     "output_type": "execute_result"
    }
   ],
   "source": [
    "# Draw the above circuit.\n",
    "quantum_circuit.draw(output='mpl')"
   ]
  },
  {
   "cell_type": "markdown",
   "metadata": {},
   "source": [
    "We used $6$ phase gates and $2$ control gates. This matches the number of gates we will note later for general $n$, which is $30n-22$, and equals $8$ for $n=1$."
   ]
  },
  {
   "cell_type": "markdown",
   "metadata": {},
   "source": [
    "**Warning. The code below didn't allow to check the statevector, since Operator command has an issue when used with parameters.**"
   ]
  },
  {
   "cell_type": "code",
   "execution_count": 74,
   "metadata": {},
   "outputs": [],
   "source": [
    "# Statevector(quantum_circuit).draw(\"Latex\") gives \n",
    "# TypeError: ParameterExpression with unbound parameters (dict_keys([Parameter($\\theta$)])) cannot be cast to a float."
   ]
  },
  {
   "cell_type": "markdown",
   "metadata": {},
   "source": [
    "**Explanation.**\n",
    "We see that the above implements $C^1 U$, since $(I\\otimes A) (CNOT) (I\\otimes B)(CNOT) (I\\otimes C) \\ket{11} = AXBXC\\ket{11} = U\\ket{11}$, while for other states $\\ket{xy}$, $(I\\otimes A) (CNOT) (I\\otimes B)(CNOT) (I\\otimes C) \\ket{xy} = ABC\\ket{xy} = \\ket{xy}$."
   ]
  },
  {
   "cell_type": "markdown",
   "metadata": {},
   "source": [
    "# Case $n = 2$:"
   ]
  },
  {
   "cell_type": "markdown",
   "metadata": {},
   "source": [
    "Upon a literature search, the above method for $n=1$ can be generalized to $n\\geq 2$ as in [1], Barenco et al, Lemma 7.9. However, that implimentation is further dependent on implimenting $C^{n-1} X$.\n",
    "\n",
    "For bigger $n$, we will follow the construction in Figures 4.8 and 4.10 of Nielsen and Chuang's book, Quantum Computation and Quantum Information.  "
   ]
  },
  {
   "cell_type": "markdown",
   "metadata": {},
   "source": [
    "Suppose that $V$ is a unitary operator such that $V^2 = U$. Such operators can be found from Qiskit as follows. "
   ]
  },
  {
   "cell_type": "markdown",
   "metadata": {},
   "source": [
    "**Warning. The below definitions give an error:**\n",
    "TypeError: ParameterExpression with unbound parameters (dict_keys([Parameter($\\theta$)])) cannot be cast to a float."
   ]
  },
  {
   "cell_type": "markdown",
   "metadata": {},
   "source": [
    "We still define the circuit below for the sake of mentioning it. For the case $n=2$, we will have to use the general case explained below for $n=5$."
   ]
  },
  {
   "cell_type": "code",
   "execution_count": 75,
   "metadata": {
    "id": "kDthYM-OI5Hq"
   },
   "outputs": [
    {
     "ename": "TypeError",
     "evalue": "ParameterExpression with unbound parameters (dict_keys([Parameter($\\theta$)])) cannot be cast to a float.",
     "output_type": "error",
     "traceback": [
      "\u001b[31m---------------------------------------------------------------------------\u001b[39m",
      "\u001b[31mTypeError\u001b[39m                                 Traceback (most recent call last)",
      "\u001b[36mCell\u001b[39m\u001b[36m \u001b[39m\u001b[32mIn[75]\u001b[39m\u001b[32m, line 2\u001b[39m\n\u001b[32m      1\u001b[39m \u001b[38;5;66;03m# Define the square root of U using the power method. \u001b[39;00m\n\u001b[32m----> \u001b[39m\u001b[32m2\u001b[39m V = \u001b[43mUGate\u001b[49m\u001b[43m(\u001b[49m\u001b[43mTheta\u001b[49m\u001b[43m,\u001b[49m\u001b[43m \u001b[49m\u001b[43mPhi\u001b[49m\u001b[43m,\u001b[49m\u001b[43m \u001b[49m\u001b[43mLam\u001b[49m\u001b[43m)\u001b[49m\u001b[43m.\u001b[49m\u001b[43mpower\u001b[49m\u001b[43m(\u001b[49m\u001b[32;43m1\u001b[39;49m\u001b[43m/\u001b[49m\u001b[32;43m2\u001b[39;49m\u001b[43m)\u001b[49m\n\u001b[32m      3\u001b[39m \u001b[38;5;66;03m# Define the dagger/inverse of V.\u001b[39;00m\n\u001b[32m      4\u001b[39m V_dag = V.power(-\u001b[32m1\u001b[39m)\n",
      "\u001b[36mFile \u001b[39m\u001b[32m/Library/Frameworks/Python.framework/Versions/3.12/lib/python3.12/site-packages/qiskit/circuit/gate.py:91\u001b[39m, in \u001b[36mGate.power\u001b[39m\u001b[34m(self, exponent, annotated)\u001b[39m\n\u001b[32m     87\u001b[39m \u001b[38;5;28;01mfrom\u001b[39;00m\u001b[38;5;250m \u001b[39m\u001b[34;01mqiskit\u001b[39;00m\u001b[34;01m.\u001b[39;00m\u001b[34;01mcircuit\u001b[39;00m\u001b[34;01m.\u001b[39;00m\u001b[34;01mlibrary\u001b[39;00m\u001b[34;01m.\u001b[39;00m\u001b[34;01mgeneralized_gates\u001b[39;00m\u001b[34;01m.\u001b[39;00m\u001b[34;01munitary\u001b[39;00m\u001b[38;5;250m \u001b[39m\u001b[38;5;28;01mimport\u001b[39;00m UnitaryGate\n\u001b[32m     89\u001b[39m \u001b[38;5;28;01mif\u001b[39;00m \u001b[38;5;129;01mnot\u001b[39;00m annotated:\n\u001b[32m     90\u001b[39m     \u001b[38;5;28;01mreturn\u001b[39;00m UnitaryGate(\n\u001b[32m---> \u001b[39m\u001b[32m91\u001b[39m         \u001b[43mOperator\u001b[49m\u001b[43m(\u001b[49m\u001b[38;5;28;43mself\u001b[39;49m\u001b[43m)\u001b[49m.power(exponent, assume_unitary=\u001b[38;5;28;01mTrue\u001b[39;00m), label=\u001b[33mf\u001b[39m\u001b[33m\"\u001b[39m\u001b[38;5;132;01m{\u001b[39;00m\u001b[38;5;28mself\u001b[39m.name\u001b[38;5;132;01m}\u001b[39;00m\u001b[33m^\u001b[39m\u001b[38;5;132;01m{\u001b[39;00mexponent\u001b[38;5;132;01m}\u001b[39;00m\u001b[33m\"\u001b[39m\n\u001b[32m     92\u001b[39m     )\n\u001b[32m     93\u001b[39m \u001b[38;5;28;01melse\u001b[39;00m:\n\u001b[32m     94\u001b[39m     \u001b[38;5;28;01mreturn\u001b[39;00m AnnotatedOperation(\u001b[38;5;28mself\u001b[39m, PowerModifier(exponent))\n",
      "\u001b[36mFile \u001b[39m\u001b[32m/Library/Frameworks/Python.framework/Versions/3.12/lib/python3.12/site-packages/qiskit/quantum_info/operators/operator.py:128\u001b[39m, in \u001b[36mOperator.__init__\u001b[39m\u001b[34m(self, data, input_dims, output_dims)\u001b[39m\n\u001b[32m    119\u001b[39m     \u001b[38;5;28mself\u001b[39m._data = np.asarray(data, dtype=\u001b[38;5;28mcomplex\u001b[39m)\n\u001b[32m    120\u001b[39m \u001b[38;5;28;01melif\u001b[39;00m \u001b[38;5;28misinstance\u001b[39m(data, (QuantumCircuit, Operation)):\n\u001b[32m    121\u001b[39m     \u001b[38;5;66;03m# If the input is a Terra QuantumCircuit or Operation we\u001b[39;00m\n\u001b[32m    122\u001b[39m     \u001b[38;5;66;03m# perform a simulation to construct the unitary operator.\u001b[39;00m\n\u001b[32m   (...)\u001b[39m\u001b[32m    126\u001b[39m     \u001b[38;5;66;03m# conditional gates, measure, or reset will cause an\u001b[39;00m\n\u001b[32m    127\u001b[39m     \u001b[38;5;66;03m# exception to be raised.\u001b[39;00m\n\u001b[32m--> \u001b[39m\u001b[32m128\u001b[39m     \u001b[38;5;28mself\u001b[39m._data = \u001b[38;5;28;43mself\u001b[39;49m\u001b[43m.\u001b[49m\u001b[43m_init_instruction\u001b[49m\u001b[43m(\u001b[49m\u001b[43mdata\u001b[49m\u001b[43m)\u001b[49m.data\n\u001b[32m    129\u001b[39m \u001b[38;5;28;01melif\u001b[39;00m \u001b[38;5;28mhasattr\u001b[39m(data, \u001b[33m\"\u001b[39m\u001b[33mto_operator\u001b[39m\u001b[33m\"\u001b[39m):\n\u001b[32m    130\u001b[39m     \u001b[38;5;66;03m# If the data object has a 'to_operator' attribute this is given\u001b[39;00m\n\u001b[32m    131\u001b[39m     \u001b[38;5;66;03m# higher preference than the 'to_matrix' method for initializing\u001b[39;00m\n\u001b[32m    132\u001b[39m     \u001b[38;5;66;03m# an Operator object.\u001b[39;00m\n\u001b[32m    133\u001b[39m     data = data.to_operator()\n",
      "\u001b[36mFile \u001b[39m\u001b[32m/Library/Frameworks/Python.framework/Versions/3.12/lib/python3.12/site-packages/qiskit/quantum_info/operators/operator.py:782\u001b[39m, in \u001b[36mOperator._init_instruction\u001b[39m\u001b[34m(cls, instruction)\u001b[39m\n\u001b[32m    780\u001b[39m \u001b[38;5;66;03m# Initialize an identity operator of the correct size of the circuit\u001b[39;00m\n\u001b[32m    781\u001b[39m \u001b[38;5;28;01mif\u001b[39;00m \u001b[38;5;28mhasattr\u001b[39m(instruction, \u001b[33m\"\u001b[39m\u001b[33m__array__\u001b[39m\u001b[33m\"\u001b[39m):\n\u001b[32m--> \u001b[39m\u001b[32m782\u001b[39m     \u001b[38;5;28;01mreturn\u001b[39;00m Operator(\u001b[43mnp\u001b[49m\u001b[43m.\u001b[49m\u001b[43marray\u001b[49m\u001b[43m(\u001b[49m\u001b[43minstruction\u001b[49m\u001b[43m,\u001b[49m\u001b[43m \u001b[49m\u001b[43mdtype\u001b[49m\u001b[43m=\u001b[49m\u001b[38;5;28;43mcomplex\u001b[39;49m\u001b[43m)\u001b[49m)\n\u001b[32m    784\u001b[39m dimension = \u001b[32m2\u001b[39m**instruction.num_qubits\n\u001b[32m    785\u001b[39m op = Operator(np.eye(dimension))\n",
      "\u001b[36mFile \u001b[39m\u001b[32m/Library/Frameworks/Python.framework/Versions/3.12/lib/python3.12/site-packages/qiskit/circuit/library/standard_gates/u.py:152\u001b[39m, in \u001b[36mUGate.__array__\u001b[39m\u001b[34m(self, dtype, copy)\u001b[39m\n\u001b[32m    150\u001b[39m \u001b[38;5;28;01mif\u001b[39;00m copy \u001b[38;5;129;01mis\u001b[39;00m \u001b[38;5;28;01mFalse\u001b[39;00m:\n\u001b[32m    151\u001b[39m     \u001b[38;5;28;01mraise\u001b[39;00m \u001b[38;5;167;01mValueError\u001b[39;00m(\u001b[33m\"\u001b[39m\u001b[33munable to avoid copy while creating an array as requested\u001b[39m\u001b[33m\"\u001b[39m)\n\u001b[32m--> \u001b[39m\u001b[32m152\u001b[39m theta, phi, lam = (\u001b[38;5;28mfloat\u001b[39m(param) \u001b[38;5;28;01mfor\u001b[39;00m param \u001b[38;5;129;01min\u001b[39;00m \u001b[38;5;28mself\u001b[39m.params)\n\u001b[32m    153\u001b[39m cos = math.cos(theta / \u001b[32m2\u001b[39m)\n\u001b[32m    154\u001b[39m sin = math.sin(theta / \u001b[32m2\u001b[39m)\n",
      "\u001b[36mFile \u001b[39m\u001b[32m/Library/Frameworks/Python.framework/Versions/3.12/lib/python3.12/site-packages/qiskit/circuit/library/standard_gates/u.py:152\u001b[39m, in \u001b[36m<genexpr>\u001b[39m\u001b[34m(.0)\u001b[39m\n\u001b[32m    150\u001b[39m \u001b[38;5;28;01mif\u001b[39;00m copy \u001b[38;5;129;01mis\u001b[39;00m \u001b[38;5;28;01mFalse\u001b[39;00m:\n\u001b[32m    151\u001b[39m     \u001b[38;5;28;01mraise\u001b[39;00m \u001b[38;5;167;01mValueError\u001b[39;00m(\u001b[33m\"\u001b[39m\u001b[33munable to avoid copy while creating an array as requested\u001b[39m\u001b[33m\"\u001b[39m)\n\u001b[32m--> \u001b[39m\u001b[32m152\u001b[39m theta, phi, lam = (\u001b[38;5;28;43mfloat\u001b[39;49m\u001b[43m(\u001b[49m\u001b[43mparam\u001b[49m\u001b[43m)\u001b[49m \u001b[38;5;28;01mfor\u001b[39;00m param \u001b[38;5;129;01min\u001b[39;00m \u001b[38;5;28mself\u001b[39m.params)\n\u001b[32m    153\u001b[39m cos = math.cos(theta / \u001b[32m2\u001b[39m)\n\u001b[32m    154\u001b[39m sin = math.sin(theta / \u001b[32m2\u001b[39m)\n",
      "\u001b[36mFile \u001b[39m\u001b[32m/Library/Frameworks/Python.framework/Versions/3.12/lib/python3.12/site-packages/qiskit/circuit/parameterexpression.py:558\u001b[39m, in \u001b[36mParameterExpression.__float__\u001b[39m\u001b[34m(self)\u001b[39m\n\u001b[32m    556\u001b[39m \u001b[38;5;28;01mexcept\u001b[39;00m (\u001b[38;5;167;01mTypeError\u001b[39;00m, \u001b[38;5;167;01mRuntimeError\u001b[39;00m) \u001b[38;5;28;01mas\u001b[39;00m exc:\n\u001b[32m    557\u001b[39m     \u001b[38;5;28;01mif\u001b[39;00m \u001b[38;5;28mself\u001b[39m.parameters:\n\u001b[32m--> \u001b[39m\u001b[32m558\u001b[39m         \u001b[38;5;28;01mraise\u001b[39;00m \u001b[38;5;167;01mTypeError\u001b[39;00m(\n\u001b[32m    559\u001b[39m             \u001b[33mf\u001b[39m\u001b[33m\"\u001b[39m\u001b[33mParameterExpression with unbound parameters (\u001b[39m\u001b[38;5;132;01m{\u001b[39;00m\u001b[38;5;28mself\u001b[39m.parameters\u001b[38;5;132;01m}\u001b[39;00m\u001b[33m) \u001b[39m\u001b[33m\"\u001b[39m\n\u001b[32m    560\u001b[39m             \u001b[33m\"\u001b[39m\u001b[33mcannot be cast to a float.\u001b[39m\u001b[33m\"\u001b[39m\n\u001b[32m    561\u001b[39m         ) \u001b[38;5;28;01mfrom\u001b[39;00m\u001b[38;5;250m \u001b[39m\u001b[38;5;28;01mNone\u001b[39;00m\n\u001b[32m    562\u001b[39m     \u001b[38;5;66;03m# In symengine, if an expression was complex at any time, its type is likely to have\u001b[39;00m\n\u001b[32m    563\u001b[39m     \u001b[38;5;66;03m# stayed \"complex\" even when the imaginary part symbolically (i.e. exactly)\u001b[39;00m\n\u001b[32m    564\u001b[39m     \u001b[38;5;66;03m# cancelled out.  Sympy tends to more aggressively recognize these as symbolically\u001b[39;00m\n\u001b[32m    565\u001b[39m     \u001b[38;5;66;03m# real.  This second attempt at a cast is a way of unifying the behavior to the\u001b[39;00m\n\u001b[32m    566\u001b[39m     \u001b[38;5;66;03m# more expected form for our users.\u001b[39;00m\n\u001b[32m    567\u001b[39m     cval = \u001b[38;5;28mcomplex\u001b[39m(\u001b[38;5;28mself\u001b[39m)\n",
      "\u001b[31mTypeError\u001b[39m: ParameterExpression with unbound parameters (dict_keys([Parameter($\\theta$)])) cannot be cast to a float."
     ]
    }
   ],
   "source": [
    "# Define the square root of U using the power method. \n",
    "V = UGate(Theta, Phi, Lam).power(1/2)\n",
    "# Define the dagger/inverse of V.\n",
    "V_dag = V.power(-1)\n",
    "# Define the controlled V gate.\n",
    "cv_gate = V.control(1)\n",
    "cv_dag = V_dag.control(1)"
   ]
  },
  {
   "cell_type": "code",
   "execution_count": null,
   "metadata": {},
   "outputs": [],
   "source": [
    "# Create the register and the circuit:\n",
    "quantum_register = QuantumRegister(size=3, name=\"n=2 register\")\n",
    "quantum_circuit = QuantumCircuit(quantum_register)\n",
    "# Add controlled V gate [1,2]\n",
    "quantum_circuit.append(cv_gate, quantum_register[1:3])\n",
    "# Add control gate [0,1]\n",
    "quantum_circuit.cx(quantum_register[0],quantum_register[1])\n",
    "# Add controlled V_dag gate [1,2]\n",
    "quantum_circuit.append(cv_dag, quantum_register[1:3])\n",
    "# Add control gate [0,1] again\n",
    "quantum_circuit.cx(quantum_register[0],quantum_register[1])\n",
    "# Add controlled V gate [0,2]\n",
    "quantum_circuit.append(cv_gate, quantum_register[0:3])"
   ]
  },
  {
   "cell_type": "code",
   "execution_count": null,
   "metadata": {},
   "outputs": [],
   "source": [
    "# Draw the circuit\n",
    "quantum_circuit.draw(output='mpl')"
   ]
  },
  {
   "cell_type": "markdown",
   "metadata": {
    "id": "6S4wYFwprFSM"
   },
   "source": [
    "### Case $n\\geq 3$:\n"
   ]
  },
  {
   "cell_type": "markdown",
   "metadata": {
    "id": "OvwALUMtrFSN",
    "outputId": "d4a00faf-0b7e-4034-d1e8-ac8974802cfe"
   },
   "source": [
    "For $n\\geq 3$, we follow Figure 4.10 of Nielsen and Chuang to implement $C^n U$. The figure only involves control gates, Toffoli gate $CCX$ and the $U$ gate itself. \n",
    "\n",
    "We will implement the Toffoli gate by using a construction from a question in problem session 1. \n",
    "\n",
    "One can also use the case $n=2$ above and take $U$ to be the $X$-gate to impliment the Toffoli gate. Indeed, Qiskit has a sqrtX gate ready to use. Thus, such a Toffoli gate implementation would require 4 gates if one uses the capabilities of Qiskit."
   ]
  },
  {
   "cell_type": "markdown",
   "metadata": {
    "id": "71IA_iCfrFSP"
   },
   "source": [
    "## Example. n=5: \n",
    "We need $5$ control qubits, 1 target qubit, and $4$ ancilla qubits in state $\\ket{0}$. \n"
   ]
  },
  {
   "cell_type": "code",
   "execution_count": null,
   "metadata": {
    "colab": {
     "base_uri": "https://localhost:8080/"
    },
    "id": "G7VJbrOlJqBb",
    "outputId": "1d2f1adf-f31d-40e2-8275-31c37c125fc4"
   },
   "outputs": [],
   "source": [
    "quantum_register = QuantumRegister(5, name = \"n=5 controls\")\n",
    "ancilla_register = AncillaRegister(4, name = \"n=5 ancillas\")\n",
    "target_register = QuantumRegister(1, name = \"n=5 target\")\n",
    "quantum_circuit = QuantumCircuit(quantum_register, ancilla_register, target_register, name=\"n=5 circuit\")\n",
    "# Add Toffoli gates.\n",
    "quantum_circuit.ccx(quantum_register[0],quantum_register[1],ancilla_register[0])\n",
    "quantum_circuit.ccx(quantum_register[2],ancilla_register[0],ancilla_register[1])\n",
    "quantum_circuit.ccx(quantum_register[3],ancilla_register[1],ancilla_register[2])\n",
    "quantum_circuit.ccx(quantum_register[4],ancilla_register[2],ancilla_register[3])\n",
    "# Define a CU gate with one control. \n",
    "cu_gate = UGate(Theta, Phi, Lam).control(1)\n",
    "# Add a CU gate between ancilla_register[3] and the target qubit. \n",
    "quantum_circuit.append(cu_gate, [ancilla_register[3], target_register[0]])\n",
    "quantum_circuit.ccx(quantum_register[4],ancilla_register[2],ancilla_register[3])\n",
    "quantum_circuit.ccx(quantum_register[3],ancilla_register[1],ancilla_register[2])\n",
    "quantum_circuit.ccx(quantum_register[2],ancilla_register[0],ancilla_register[1])\n",
    "quantum_circuit.ccx(quantum_register[0],quantum_register[1],ancilla_register[0])\n"
   ]
  },
  {
   "cell_type": "code",
   "execution_count": null,
   "metadata": {},
   "outputs": [],
   "source": [
    "# Draw the circuit \n",
    "quantum_circuit.draw('mpl')"
   ]
  },
  {
   "cell_type": "markdown",
   "metadata": {},
   "source": [
    "Therefore, in the case $n=5$, the implementation requires $8$ Toffoli gates and one $CU$ gate. From the above case for $n=1$,  we know that implementation of $CU$ gate requires $6$ phase gates and $2$ control gates. "
   ]
  },
  {
   "cell_type": "markdown",
   "metadata": {},
   "source": [
    "**Explanation.** \n",
    "This implements $C^5 U$, since if all the registry qubits are in state $\\ket{1}$, then the ancilla qubits will be switched to $\\ket{1}$ as well and $CU$ will apply. The second half of the circuit then switches the work qubits back to state $\\ket{0}$. \n",
    "\n",
    "Otherwise, at least one registry qubit is in state $\\ket{0}$, noticing that all registry qubits are connected to at least one ancilla qubit, the ancilla qubits will remain in their original state $\\ket{0}$. Therefore, all other states $\\ket{x_4 x_3 x_2 x_1 x_0}$ will remain unchanged.\n"
   ]
  },
  {
   "cell_type": "markdown",
   "metadata": {
    "id": "7n03rlLGrFSQ"
   },
   "source": [
    "We will now use the implementation of the Toffoli gate from the first problem session. "
   ]
  },
  {
   "cell_type": "code",
   "execution_count": null,
   "metadata": {
    "colab": {
     "base_uri": "https://localhost:8080/"
    },
    "id": "imAR1-FRJwvl",
    "outputId": "325be22d-4f94-45bf-a6c0-f66e6d7e5d76"
   },
   "outputs": [],
   "source": [
    "toffoli_register = QuantumRegister(3, \"t\")\n",
    "\n",
    "toffoli_circuit = QuantumCircuit(toffoli_register)\n",
    "\n",
    "toffoli_circuit.h(toffoli_register[2])\n",
    "toffoli_circuit.cx(toffoli_register[1], toffoli_register[2])\n",
    "toffoli_circuit.tdg(toffoli_register[2]) # tdg is the method for the inverse of T\n",
    "toffoli_circuit.cx(toffoli_register[0], toffoli_register[2])\n",
    "toffoli_circuit.t(toffoli_register[2])\n",
    "toffoli_circuit.cx(toffoli_register[1], toffoli_register[2])\n",
    "toffoli_circuit.tdg(toffoli_register[2])\n",
    "toffoli_circuit.cx(toffoli_register[0], toffoli_register[2])\n",
    "toffoli_circuit.t(toffoli_register[2])\n",
    "toffoli_circuit.h(toffoli_register[2])\n",
    "toffoli_circuit.cx(toffoli_register[0], toffoli_register[1])\n",
    "toffoli_circuit.tdg(toffoli_register[1])\n",
    "toffoli_circuit.cx(toffoli_register[0], toffoli_register[1])\n",
    "toffoli_circuit.t(toffoli_register[0])\n",
    "toffoli_circuit.t(toffoli_register[1])\n",
    "\n",
    "#Draw the Toffoli circuit \n",
    "toffoli_circuit.draw(output=\"mpl\")"
   ]
  },
  {
   "cell_type": "markdown",
   "metadata": {},
   "source": [
    "Note that each Toffoli gate needs 2 Hadamard gates, 7 phase gates and 6 control gates. "
   ]
  },
  {
   "cell_type": "markdown",
   "metadata": {},
   "source": [
    "## Cost.\n",
    "\n",
    "Therefore, having $8$ Toffoli gates and one $CU$ gate in our implementation of $C^5 U$, we need $8*15+8.1=128$ gates. \n",
    "\n",
    "For general $n$, we would need $15*2*(n-1)+8.1=30n-22$ gates, which is $O(n)$ gates. "
   ]
  },
  {
   "cell_type": "markdown",
   "metadata": {},
   "source": [
    "**Note. We can also define the $C^5 U$ gate from Qiskit.** "
   ]
  },
  {
   "cell_type": "code",
   "execution_count": null,
   "metadata": {
    "scrolled": true
   },
   "outputs": [],
   "source": [
    "cu_5_gate = UGate(Theta, Phi, Lam).control(4)\n",
    "qr = QuantumRegister(5)\n",
    "qc = QuantumCircuit(qr)\n",
    "qc.append(cu_5_gate, qr)\n",
    "qc.draw('mpl')"
   ]
  },
  {
   "cell_type": "code",
   "execution_count": null,
   "metadata": {},
   "outputs": [],
   "source": [
    "# We check the decomposition provided by Qiskit. \n",
    "decomposed_qc = transpile(qc, basis_gates = ['rx', 'ry', 'rz', 'cx'])\n",
    "decomposed_qc.draw('mpl')"
   ]
  },
  {
   "cell_type": "code",
   "execution_count": null,
   "metadata": {},
   "outputs": [],
   "source": [
    "# We check the number of gates in the above circuit.\n",
    "print(dict(decomposed_qc.count_ops()))"
   ]
  },
  {
   "cell_type": "markdown",
   "metadata": {},
   "source": [
    "The above circuit contains $92$ control gates and $151$ phase gates, so 243 gates in total, whereas the construction proposed previously required $128$ such single qubit gates."
   ]
  },
  {
   "cell_type": "markdown",
   "metadata": {},
   "source": [
    "## Other implementations in the literature: \n",
    "\n",
    "The construction above for general $n$ had depth $2n$ with $n$ of them being ancilla qubits, and it used $30n-22$ gates.\n",
    "\n",
    "We mention some work from the literature that implements a $C^n U$ gate without any ancillas. \n",
    "\n",
    "In [1], Corollary 7.6, Barenco et al. provided an implementation of $C^nU$ with $O(n^2)$ gates. \n",
    "\n",
    "In [2], Silva and Park introduced an implimentation on a circuit with $O(n)$ depth and $O(n^2)$ gates that involve $2^n$th roots of the U gate in addition to controlled phase gates $C^k R_x(\\pi)$ for $k<n-1$.\n",
    "\n",
    "More recently, in [4], Theorem 1, Zindorf and Bose proposed an implimentation of $C^n U$ for $n\\geq 6$. This needs no ancillas, but 8 $R$ gates, $O(n)$ many CNOT, T and H gates, and it has depth $O(n)$. "
   ]
  },
  {
   "cell_type": "markdown",
   "metadata": {
    "id": "qzJuJqz4rFSc"
   },
   "source": [
    "**References:**\n",
    "\n",
    "**1.** [Barenco et al] A. Barenco, C. H. Bennett, R. Cleve, D. P. DiVincenzo, N. Margolus, P. Shor, T. Sleator, J. A. Smolin, and H. Weinfurter, Elementary gates for quantum computation. Phys. Rev. A 52, 3457 (1995).\n",
    "\n",
    "**2.** [Nielsen Chuang] M. Nielsen and I. Chuang, Quantum Computing and Quantum Information, Cambridge University Press, 10th anniversary edition.\n",
    "\n",
    "**3.** [Silva Park] A. J. da Silva and D. K. Park, Linear-depth quantum circuits for multiqubit controlled gates, Phys. Rev. A 106, 042602.  \n",
    "doi:(https://doi.org/10.1103/PhysRevA.106.042602)\n",
    "\n",
    "**4.** [Zindorf Bose] B. Zindorf and S. Bose, Efficient Implementation of Multi-Controlled Quantum Gates, [arXiv](https://arxiv.org/pdf/2404.02279)"
   ]
  }
 ],
 "metadata": {
  "colab": {
   "provenance": []
  },
  "kernelspec": {
   "display_name": "Python 3 (ipykernel)",
   "language": "python",
   "name": "python3"
  },
  "language_info": {
   "codemirror_mode": {
    "name": "ipython",
    "version": 3
   },
   "file_extension": ".py",
   "mimetype": "text/x-python",
   "name": "python",
   "nbconvert_exporter": "python",
   "pygments_lexer": "ipython3",
   "version": "3.12.4"
  }
 },
 "nbformat": 4,
 "nbformat_minor": 4
}
