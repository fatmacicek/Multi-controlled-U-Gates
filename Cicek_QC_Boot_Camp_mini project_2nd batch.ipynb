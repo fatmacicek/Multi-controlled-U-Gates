{
 "cells": [
  {
   "cell_type": "markdown",
   "metadata": {},
   "source": [
    "# Mini-Project #3: QUANTUM STATE PREPARATION"
   ]
  },
  {
   "cell_type": "markdown",
   "metadata": {},
   "source": [
    "Write a Qiskit function that takes a $2^n$ dimensional vector, $\\psi \\in \\mathbb{C}^{2^n}$, such that $||\\psi||_2=1$, and outputs a circuit, $U$, such that\n",
    "$$\n",
    "U \\ket{0}_n = \\sum_{x\\in \\mathbb{F}_2^n} \\psi_x \\ket{x}_n .\n",
    "$$\n",
    "\n",
    "**Expectations:**\n",
    "\n",
    "$\\bullet$ Documentation.\n",
    "\n",
    "$\\bullet$ Working Qiskit code for all $n$ and demo for $n=3$."
   ]
  },
  {
   "cell_type": "markdown",
   "metadata": {},
   "source": [
    "# Solution:\n",
    "\n",
    "We will provide a construction based on induction. \n"
   ]
  },
  {
   "cell_type": "code",
   "execution_count": 133,
   "metadata": {},
   "outputs": [
    {
     "name": "stdout",
     "output_type": "stream",
     "text": [
      "Requirement already satisfied: qiskit in /Library/Frameworks/Python.framework/Versions/3.12/lib/python3.12/site-packages (2.0.0)\n",
      "Requirement already satisfied: numpy in /Library/Frameworks/Python.framework/Versions/3.12/lib/python3.12/site-packages (2.2.5)\n",
      "Requirement already satisfied: rustworkx>=0.15.0 in /Library/Frameworks/Python.framework/Versions/3.12/lib/python3.12/site-packages (from qiskit) (0.16.0)\n",
      "Requirement already satisfied: scipy>=1.5 in /Library/Frameworks/Python.framework/Versions/3.12/lib/python3.12/site-packages (from qiskit) (1.15.3)\n",
      "Requirement already satisfied: sympy>=1.3 in /Library/Frameworks/Python.framework/Versions/3.12/lib/python3.12/site-packages (from qiskit) (1.14.0)\n",
      "Requirement already satisfied: dill>=0.3 in /Library/Frameworks/Python.framework/Versions/3.12/lib/python3.12/site-packages (from qiskit) (0.4.0)\n",
      "Requirement already satisfied: python-dateutil>=2.8.0 in /Library/Frameworks/Python.framework/Versions/3.12/lib/python3.12/site-packages (from qiskit) (2.9.0.post0)\n",
      "Requirement already satisfied: stevedore>=3.0.0 in /Library/Frameworks/Python.framework/Versions/3.12/lib/python3.12/site-packages (from qiskit) (5.4.1)\n",
      "Requirement already satisfied: typing-extensions in /Library/Frameworks/Python.framework/Versions/3.12/lib/python3.12/site-packages (from qiskit) (4.13.2)\n",
      "Requirement already satisfied: symengine<0.14,>=0.11 in /Library/Frameworks/Python.framework/Versions/3.12/lib/python3.12/site-packages (from qiskit) (0.13.0)\n",
      "Requirement already satisfied: six>=1.5 in /Library/Frameworks/Python.framework/Versions/3.12/lib/python3.12/site-packages (from python-dateutil>=2.8.0->qiskit) (1.17.0)\n",
      "Requirement already satisfied: pbr>=2.0.0 in /Library/Frameworks/Python.framework/Versions/3.12/lib/python3.12/site-packages (from stevedore>=3.0.0->qiskit) (6.1.1)\n",
      "Requirement already satisfied: setuptools in /Library/Frameworks/Python.framework/Versions/3.12/lib/python3.12/site-packages (from pbr>=2.0.0->stevedore>=3.0.0->qiskit) (80.4.0)\n",
      "Requirement already satisfied: mpmath<1.4,>=1.1.0 in /Library/Frameworks/Python.framework/Versions/3.12/lib/python3.12/site-packages (from sympy>=1.3->qiskit) (1.3.0)\n",
      "Note: you may need to restart the kernel to use updated packages.\n"
     ]
    }
   ],
   "source": [
    "pip install qiskit numpy"
   ]
  },
  {
   "cell_type": "code",
   "execution_count": 134,
   "metadata": {},
   "outputs": [],
   "source": [
    "# Import packages\n",
    "from qiskit import quantum_info \n",
    "from qiskit.circuit import QuantumCircuit, QuantumRegister, AncillaRegister, Parameter\n",
    "from qiskit.circuit.library import DiagonalGate\n",
    "from qiskit.quantum_info import Statevector, Operator\n",
    "from qiskit import transpile\n",
    "import qiskit.circuit.library\n",
    "\n",
    "import matplotlib as mpl\n",
    "import numpy as np"
   ]
  },
  {
   "cell_type": "code",
   "execution_count": 135,
   "metadata": {},
   "outputs": [],
   "source": [
    "# Define a function that prepares an $n$-qubit state $\\psi$\n",
    "\n",
    "\n",
    "def qsp(psi):\n",
    "    \n",
    "# Check that the length of the vector psi is a power of 2\n",
    "    if np.log2(len(psi)) == int(np.log2(len(psi))):\n",
    "        n = int(np.log2(len(psi)))\n",
    "    else:\n",
    "        return False\n",
    "        \n",
    "# Define the vector consisting of moduli of each entry in psi\n",
    "    psi_abs = [np.absolute(x) for x in psi] \n",
    "    \n",
    "    if n == 1:\n",
    "        theta_0 = 2 * np.arccos(psi_abs[0])\n",
    "        quantum_register = QuantumRegister(size=1, name=\"q\")\n",
    "        qsp_circuit = QuantumCircuit(quantum_register, name=\"Quantum State Preparation n=1\")\n",
    "        qsp_circuit.ry(theta_0, quantum_register[0])\n",
    "    elif n == 2:\n",
    "        theta_0 = 2 * np.arccos(np.sqrt(np.sum(np.square(psi_abs[:2]))))\n",
    "        theta_10 = 2 * np.arccos(psi[0] / np.sqrt(np.sum(np.square(psi_abs[:2]))))\n",
    "        theta_11 = 2 * np.arccos(psi[2] / np.sqrt(np.sum(np.square(psi_abs[2:]))))\n",
    "        quantum_register = QuantumRegister(size=2, name=\"x\")\n",
    "        qsp_circuit = QuantumCircuit(quantum_register, name=\"Quantum State Preparation\")\n",
    "        qsp_circuit.ry(theta_0, quantum_register[1])\n",
    "        qsp_circuit.x(quantum_register[1])\n",
    "        qsp_circuit.cry(theta_10, quantum_register[1], quantum_register[0])\n",
    "        qsp_circuit.x(quantum_register[1])\n",
    "        qsp_circuit.cry(theta_11, quantum_register[1], quantum_register[0]) \n",
    "    elif n >= 3:\n",
    "        theta_0 = 2 * np.arccos(np.sqrt(np.sum(np.square(psi[::2]))))\n",
    "        quantum_register = QuantumRegister(size=n, name=\"x\")\n",
    "        qsp_circuit = QuantumCircuit(quantum_register, name=\"Quantum State Preparation\")\n",
    "        qsp_circuit.ry(theta_0, quantum_register[-1])\n",
    "        qsp_circuit.x(quantum_register[-1])\n",
    "# Define psi_0, the n-qubit state within psi_abs        \n",
    "        psi_abs_zero = [x/np.cos(theta_0/2) for x in psi_abs[::2]]\n",
    "# Define psi_1, the n-qubit state within psi_abs         \n",
    "        psi_abs_one = [x/np.sin(theta_0/2) for x in psi_abs[1::2]]\n",
    "# Convert the circuit for psi_abs_zero into a gate and apply its 1 controlled version with the first n qubits as the target        \n",
    "        c_psi_abs_zero_gate = qsp(psi_abs_zero).to_gate().control(1)\n",
    "        qsp_circuit.append(c_psi_abs_zero_gate, [quantum_register[n-1]] + [quantum_register[i] for i in range(n-1)])\n",
    "        qsp_circuit.x(quantum_register[-1])\n",
    "# Convert the circuit for psi_abs_one into a gate and apply its 1 controlled version with the first n qubits as the target        \n",
    "        c_psi_abs_one_gate = qsp(psi_abs_one).to_gate().control(1)\n",
    "        qsp_circuit.append(c_psi_abs_one_gate, [quantum_register[n-1]] + [quantum_register[i] for i in range(n-1)])\n",
    "\n",
    "# Define the vector of phases of each entry in psi\n",
    "    psi_phases = [np.e**(1j*np.angle(x)) for x in psi]\n",
    "    psi_phases_gate = DiagonalGate(psi_phases)\n",
    "# Add the suitable phase factors  \n",
    "    qsp_circuit.append(psi_phases_gate, qsp_circuit.qubits)\n",
    "    return qsp_circuit \n",
    "\n",
    "        "
   ]
  },
  {
   "cell_type": "markdown",
   "metadata": {},
   "source": [
    "# $n=1:$"
   ]
  },
  {
   "cell_type": "markdown",
   "metadata": {},
   "source": [
    "Let $\\ket{\\psi} = \\psi_0 \\ket{0} + \\psi_1 \\ket{1}.$ \n",
    "\n",
    "We first assume that $\\psi_1 \\geq 0$. \n",
    "Define the following angle\n",
    "\\begin{align}\n",
    "    \\theta_{0}     = 2 \\arccos \\big(\\psi_0 \\big). \n",
    "\\end{align}\n",
    "Then we observe that\n",
    "$$\n",
    "R_Y(\\theta_{0}) \\ket{0} = \\cos\\frac{\\theta_{0}}{2} \\ket{0}+ \\sin\\frac{\\theta_{0}}{2} \\ket{1}. \n",
    "$$"
   ]
  },
  {
   "cell_type": "markdown",
   "metadata": {},
   "source": [
    "$\\psi$ will be the output of the following circuit. "
   ]
  },
  {
   "cell_type": "code",
   "execution_count": 136,
   "metadata": {},
   "outputs": [
    {
     "data": {
      "image/png": "[encoded data removed]",
      "text/plain": [
       "<Figure size 185.453x117.056 with 1 Axes>"
      ]
     },
     "execution_count": 136,
     "metadata": {},
     "output_type": "execute_result"
    }
   ],
   "source": [
    "psi = [-1/2, np.sqrt(3)/2]\n",
    "\n",
    "theta_0 = 2 * np.arccos(psi[0])\n",
    "\n",
    "quantum_register = QuantumRegister(size=1, name=\"q\")\n",
    "\n",
    "\n",
    "qsp_circuit = QuantumCircuit(quantum_register, name=\"Quantum State Preparation n=1\")\n",
    "\n",
    "qsp_circuit.ry(theta_0, quantum_register[0])\n",
    "\n",
    "#qsp_circuit.append(GlobalPhaseGate(np.pi))\n",
    "\n",
    "qsp_circuit.draw(output=\"mpl\")"
   ]
  },
  {
   "cell_type": "code",
   "execution_count": 137,
   "metadata": {},
   "outputs": [
    {
     "data": {
      "text/latex": [
       "$$- \\frac{1}{2} |0\\rangle+\\frac{\\sqrt{3}}{2} |1\\rangle$$"
      ],
      "text/plain": [
       "<IPython.core.display.Latex object>"
      ]
     },
     "execution_count": 137,
     "metadata": {},
     "output_type": "execute_result"
    }
   ],
   "source": [
    "output = Statevector(qsp_circuit)\n",
    "output.draw(\"latex\")"
   ]
  },
  {
   "cell_type": "markdown",
   "metadata": {},
   "source": [
    "If $\\psi_1\\leq 0$, then we prepare the state $-\\psi_0\\ket{0}- \\psi_1\\ket{1}$ by using the above circuit and apply a global phase gate with phase $\\pi$ to the output."
   ]
  },
  {
   "cell_type": "code",
   "execution_count": 138,
   "metadata": {},
   "outputs": [
    {
     "ename": "NameError",
     "evalue": "name 'GlobalPhaseGate' is not defined",
     "output_type": "error",
     "traceback": [
      "\u001b[31m---------------------------------------------------------------------------\u001b[39m",
      "\u001b[31mNameError\u001b[39m                                 Traceback (most recent call last)",
      "\u001b[36mCell\u001b[39m\u001b[36m \u001b[39m\u001b[32mIn[138]\u001b[39m\u001b[32m, line 14\u001b[39m\n\u001b[32m     10\u001b[39m qsp_circuit = QuantumCircuit(quantum_register, name=\u001b[33m\"\u001b[39m\u001b[33mQuantum State Preparation n=1\u001b[39m\u001b[33m\"\u001b[39m)\n\u001b[32m     12\u001b[39m qsp_circuit.ry(theta_0, quantum_register[\u001b[32m0\u001b[39m])\n\u001b[32m---> \u001b[39m\u001b[32m14\u001b[39m qsp_circuit.append(\u001b[43mGlobalPhaseGate\u001b[49m(np.pi))\n\u001b[32m     16\u001b[39m qsp_circuit.draw(output=\u001b[33m\"\u001b[39m\u001b[33mmpl\u001b[39m\u001b[33m\"\u001b[39m)\n",
      "\u001b[31mNameError\u001b[39m: name 'GlobalPhaseGate' is not defined"
     ]
    }
   ],
   "source": [
    "psi = [-1/2, -np.sqrt(3)/2]\n",
    "\n",
    "minus_psi =  [-1*x for x in psi]\n",
    "\n",
    "theta_0 = 2 * np.arccos(minus_psi[0])\n",
    "\n",
    "quantum_register = QuantumRegister(size=1, name=\"q\")\n",
    "\n",
    "\n",
    "qsp_circuit = QuantumCircuit(quantum_register, name=\"Quantum State Preparation n=1\")\n",
    "\n",
    "qsp_circuit.ry(theta_0, quantum_register[0])\n",
    "\n",
    "qsp_circuit.append(GlobalPhaseGate(np.pi))\n",
    "\n",
    "qsp_circuit.draw(output=\"mpl\")"
   ]
  },
  {
   "cell_type": "code",
   "execution_count": null,
   "metadata": {},
   "outputs": [],
   "source": [
    "output = Statevector(qsp_circuit)\n",
    "output.draw(\"latex\")"
   ]
  },
  {
   "cell_type": "markdown",
   "metadata": {},
   "source": [
    "# $n=2:$"
   ]
  },
  {
   "cell_type": "markdown",
   "metadata": {},
   "source": [
    "Suppose that for $\\psi_{00}, \\psi_{10}, \\psi_{01}, \\psi_{11} \\geq 0$,\n",
    "\\begin{align}\n",
    "\\ket{ \\psi}  &=  \\psi_{00} \\ket{00} + \\psi_{10} \\ket{10} + \\psi_{01} \\ket{01} + \\psi_{11} \\ket{11} \\\\\n",
    "&= \\sqrt{\\psi_{00}^2+\\psi_{10}^2} \\Big(\\frac{\\psi_{00}}{\\sqrt{\\psi_{00}^2+\\psi_{10}^2}} \\ket{00} +\\frac{\\psi_{10}}{\\sqrt{\\psi_{00}^2+\\psi_{10}^2}} \\ket{10} \\Big) \n",
    "+ \\sqrt{\\psi_{01}^2+\\psi_{11}^2} \\Big(\\frac{\\psi_{01}}{ \\sqrt{\\psi_{01}^2+\\psi_{11}^2}}  \\ket{01}  + \\frac{\\psi_{11}}{ \\sqrt{\\psi_{01}^2+\\psi_{11}^2}} \\ket{11} \\Big)  .\n",
    "\\end{align}\n",
    "\n",
    "Then\n",
    "\\begin{equation}\n",
    "\\ket{\\psi} = \\cos \\big( \\theta_0 / 2 \\big) \\Big( \\cos \\big( \\theta_{10} / 2 \\big) \\ket{0} + \\sin \\big( \\theta_{10} / 2 \\big) \\ket{1} \\Big) \\ket{0} + \\sin \\big( \\theta_0 / 2 \\big) \\Big( \\cos \\big( \\theta_{11} / 2 \\big) \\ket{0} + \\sin \\big( \\theta_{11} / 2 \\big) \\ket{1} \\Big) \\ket{1},\n",
    "\\end{equation}\n",
    "where\n",
    "\\begin{align}\n",
    "    \\theta_0        &= 2 \\arccos \\big( \\sqrt{\\psi_{00}^2 + \\psi_{10}^2} \\big), \\\\\n",
    "    \\theta_{10}     &= 2 \\arccos \\Big( \\tfrac{\\psi_{00}}{\\sqrt{\\psi_{00}^2 + \\psi_{10}^2}} \\Big), \\\\\n",
    "    \\theta_{11}     &= 2 \\arccos \\Big( \\tfrac{\\psi_{01}}{\\sqrt{\\psi_{01}^2 + \\psi_{11}^2}} \\Big). \\\\\n",
    "\\end{align}\n"
   ]
  },
  {
   "cell_type": "markdown",
   "metadata": {},
   "source": [
    "We recall the definition of $R_Y$: $$R_Y(\\theta)\\ket{0} = \\cos\\frac{\\theta}{2}\\ket{0}+\\sin\\frac{\\theta}{2}\\ket{1}.$$\n",
    "$$R_Y(\\theta)\\ket{1} = -\\sin\\frac{\\theta}{2}\\ket{0}+\\cos\\frac{\\theta}{2}\\ket{1}.$$"
   ]
  },
  {
   "cell_type": "markdown",
   "metadata": {},
   "source": [
    "Therefore, \n",
    "$$\n",
    "\\psi=\n",
    "\\cos(\\theta_0/2)\\big(R_Y(\\theta_{10})\\ket{0}\\big) \\ket{0}+\\sin(\\theta_0/2)\\big(R_Y(\\theta_{11})\\ket{0}\\big) \\ket{1}\n",
    "$$"
   ]
  },
  {
   "cell_type": "markdown",
   "metadata": {},
   "source": [
    "Now let\n",
    "\\begin{equation}\n",
    "| \\Psi \\rangle  = \\tfrac{1}{\\sqrt{30}} | 00 \\rangle + \\tfrac{2}{\\sqrt{30}} | 10 \\rangle + \\tfrac{3}{\\sqrt{30}} | 01 \\rangle + \\tfrac{4}{\\sqrt{30}} | 11 \\rangle.\n",
    "\\end{equation}"
   ]
  },
  {
   "cell_type": "code",
   "execution_count": null,
   "metadata": {},
   "outputs": [],
   "source": [
    "psi = np.arange(1, 5) / np.sqrt(30)\n",
    "np.linalg.norm(psi)"
   ]
  },
  {
   "cell_type": "code",
   "execution_count": null,
   "metadata": {},
   "outputs": [],
   "source": [
    "theta_0 = 2 * np.arccos(np.sqrt(np.sum(np.square(psi[:2]))))\n",
    "theta_10 = 2 * np.arccos(psi[0] / np.sqrt(np.sum(np.square(psi[:2]))))\n",
    "theta_11 = 2 * np.arccos(psi[2] / np.sqrt(np.sum(np.square(psi[2:]))))\n",
    "\n",
    "quantum_register = QuantumRegister(size=2, name=\"x\")\n",
    "\n",
    "qsp_circuit = QuantumCircuit(quantum_register, name=\"Quantum State Preparation\")\n",
    "\n",
    "qsp_circuit.ry(theta_0, quantum_register[1])\n",
    "\n",
    "qsp_circuit.barrier()\n",
    "\n",
    "qsp_circuit.x(quantum_register[1])\n",
    "qsp_circuit.cry(theta_10, quantum_register[1], quantum_register[0])\n",
    "qsp_circuit.x(quantum_register[1])\n",
    "\n",
    "qsp_circuit.barrier()\n",
    "\n",
    "qsp_circuit.cry(theta_11, quantum_register[1], quantum_register[0])\n",
    "\n",
    "qsp_circuit.draw(output=\"mpl\")"
   ]
  },
  {
   "cell_type": "code",
   "execution_count": null,
   "metadata": {},
   "outputs": [],
   "source": [
    "output = Statevector(qsp_circuit)\n",
    "output.draw(\"latex\")"
   ]
  },
  {
   "cell_type": "markdown",
   "metadata": {},
   "source": [
    "# $n\\geq 3:$"
   ]
  },
  {
   "cell_type": "markdown",
   "metadata": {},
   "source": [
    "**Note.** Let $n=3$ for this note. In Qiskit, the computational basis elements are listed in the same order as their bit correspondents:\n",
    "$$\n",
    "\\ket{000}, \\ket{001}, \\ket{010}, \\ket{011}, \\ket{100},\\ket{101},\\ket{110}, \\ket{111}. \n",
    "$$\n",
    "We observe that the even indices run over basis elements with the zero qubit in the $\\ket{0}$ state, while the odd indices run over basis elements where zero qubit is in the state $\\ket{1}$."
   ]
  },
  {
   "cell_type": "markdown",
   "metadata": {},
   "source": [
    "Given an $n$-qubit state $\\psi$, we can write it as follows. \n",
    "$$\n",
    "\\psi = a \\, \\psi_0 \\otimes \\ket{0} + b\\, \\psi_1\\otimes \\ket{1} \\quad \\text{for }\\,(n-1)\\text{-qubit states }\\, \\psi_0, \\psi_1, \\,\\, \\text{for positive } \\, a, b \\, \\text{ with } \\, a^2+b^2=1. \n",
    "$$"
   ]
  },
  {
   "cell_type": "markdown",
   "metadata": {},
   "source": [
    "Assume that the states $\\psi_0, \\psi_1$ can be prepared. "
   ]
  },
  {
   "cell_type": "markdown",
   "metadata": {},
   "source": [
    "We can rewrite $\\psi$ as\n",
    "$$\n",
    "\\psi = \\cos\\Big(\\frac{\\theta_0}{2}\\Big) \\psi_0 \\ket{0}+ \\sin\\Big(\\frac{\\theta_0}{2}\\Big) \\psi_1 \\ket{1},\n",
    "$$\n",
    "for $\\theta_0 = 2\\arccos(a)$, where $a = \\Big(\\sum_{\\substack{x \\in \\mathbb{F}_2^n, \\\\ x\\text{:even}}} \\psi_x^2\\Big)^{1/2}$."
   ]
  },
  {
   "cell_type": "code",
   "execution_count": null,
   "metadata": {},
   "outputs": [],
   "source": [
    "theta_0 = 2 * np.arccos(np.sqrt(np.sum(np.square(psi[::2]))))\n",
    "\n",
    "qsp_circuit.ry(theta_0, quantum_register[-1])"
   ]
  },
  {
   "cell_type": "code",
   "execution_count": null,
   "metadata": {},
   "outputs": [],
   "source": [
    "psi = [-1/np.sqrt(2)+1j/np.sqrt(2), 1/np.sqrt(2)+1j/np.sqrt(2)]\n",
    "psi_phases = [np.e**(1j*np.angle(x)) for x in psi]\n",
    "psi_phases_gate = DiagonalGate(psi_phases)"
   ]
  },
  {
   "cell_type": "code",
   "execution_count": null,
   "metadata": {},
   "outputs": [],
   "source": [
    "DiagonalGate"
   ]
  },
  {
   "cell_type": "markdown",
   "metadata": {},
   "source": [
    "# Toy example. $n=1.$"
   ]
  },
  {
   "cell_type": "code",
   "execution_count": null,
   "metadata": {},
   "outputs": [],
   "source": [
    "qc = QuantumCircuit(1)\n",
    "qc.append(psi_phases_gate, qc.qubits)\n",
    "Statevector(qc)"
   ]
  },
  {
   "cell_type": "code",
   "execution_count": null,
   "metadata": {},
   "outputs": [],
   "source": [
    "output = Statevector(qc)\n",
    "output.draw('latex')"
   ]
  },
  {
   "cell_type": "code",
   "execution_count": null,
   "metadata": {},
   "outputs": [],
   "source": [
    "psi = [-1/np.sqrt(2)+1j/np.sqrt(2), 1/np.sqrt(2)+1j/np.sqrt(2)]\n",
    "qc= qsp(psi)\n",
    "Statevector(qc)"
   ]
  },
  {
   "cell_type": "code",
   "execution_count": null,
   "metadata": {},
   "outputs": [],
   "source": [
    "output = Statevector(qc)\n",
    "output.draw('latex')"
   ]
  },
  {
   "cell_type": "markdown",
   "metadata": {},
   "source": [
    "# Example. $n=3 .$"
   ]
  },
  {
   "cell_type": "code",
   "execution_count": null,
   "metadata": {},
   "outputs": [],
   "source": [
    "psi = [1/(2*np.sqrt(2)), 1/(2*np.sqrt(2)), 1/(2*np.sqrt(2)), -1/(2*np.sqrt(2)), 1/(2*np.sqrt(2)),1/(2*np.sqrt(2)), 1/(2*np.sqrt(2)), -1/(2*np.sqrt(2))]\n",
    "qc= qsp(psi)\n",
    "Statevector(qc)"
   ]
  },
  {
   "cell_type": "code",
   "execution_count": null,
   "metadata": {},
   "outputs": [],
   "source": [
    "output = Statevector(qc)\n",
    "output.draw('latex')"
   ]
  },
  {
   "cell_type": "code",
   "execution_count": null,
   "metadata": {},
   "outputs": [],
   "source": [
    "qsp(psi).draw('mpl')"
   ]
  },
  {
   "cell_type": "code",
   "execution_count": null,
   "metadata": {},
   "outputs": [],
   "source": []
  }
 ],
 "metadata": {
  "colab": {
   "provenance": []
  },
  "kernelspec": {
   "display_name": "Python 3 (ipykernel)",
   "language": "python",
   "name": "python3"
  },
  "language_info": {
   "codemirror_mode": {
    "name": "ipython",
    "version": 3
   },
   "file_extension": ".py",
   "mimetype": "text/x-python",
   "name": "python",
   "nbconvert_exporter": "python",
   "pygments_lexer": "ipython3",
   "version": "3.12.4"
  }
 },
 "nbformat": 4,
 "nbformat_minor": 4
}
